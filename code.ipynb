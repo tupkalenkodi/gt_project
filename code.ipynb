{
 "cells": [
  {
   "cell_type": "code",
   "execution_count": 3,
   "id": "6240e0",
   "metadata": {
    "collapsed": false
   },
   "outputs": [
   ],
   "source": [
    "def is_highly_irregular(G, n):\n",
    "\n",
    "    deg = G.degree()\n",
    "    neighbors = G.neighbors \n",
    "    \n",
    "    for v in G.vertices():\n",
    "        seen = set()\n",
    "        for u in neighbors(v):\n",
    "            d = deg[u]\n",
    "            if d in seen:\n",
    "                return False\n",
    "            seen.add(d)\n",
    "    return True\n",
    "\n",
    "\n",
    "def find_highly_irregular_graphs(n):\n",
    "    print(f\"Processing n = {n}\")\n",
    "    result = []\n",
    "    count = 0\n",
    "    \n",
    "    min_edges = n-1\n",
    "    max_edges = (n * (n + 2)) // 8 \n",
    "    max_degree = n // 2\n",
    "    \n",
    "    geng_cmd = f\"{n} -c {min_edges}:{max_edges} -d1 -D{max_degree}\"\n",
    "    for G in graphs.nauty_geng(geng_cmd):\n",
    "\n",
    "        if is_highly_irregular(G, n):\n",
    "            result.append(G)\n",
    "            count += 1\n",
    "        \n",
    "            \n",
    "    print(f\"Found {count} highly irregular graph(s) of order {n}\")\n",
    "    return result"
   ]
  },
  {
   "cell_type": "code",
   "execution_count": 4,
   "id": "51d006",
   "metadata": {
    "collapsed": false
   },
   "outputs": [
    {
     "name": "stdout",
     "output_type": "stream",
     "text": [
      "Processing n = 4\n"
     ]
    },
    {
     "name": "stdout",
     "output_type": "stream",
     "text": [
      "Found 1 highly irregular graph(s) of order 4\n",
      "Processing n = 5\n",
      "Found 0 highly irregular graph(s) of order 5\n",
      "Processing n = 6\n",
      "Found 1 highly irregular graph(s) of order 6\n",
      "Processing n = 7\n",
      "Found 0 highly irregular graph(s) of order 7\n",
      "Processing n = 8\n",
      "Found 3 highly irregular graph(s) of order 8\n",
      "Processing n = 9\n"
     ]
    },
    {
     "name": "stdout",
     "output_type": "stream",
     "text": [
      "Found 3 highly irregular graph(s) of order 9\n"
     ]
    }
   ],
   "source": [
    "# Graphs of order up to 9.\n",
    "highly_irregular_up_to_9 = [[] for _ in range(10)]\n",
    "\n",
    "for n in range(4, 10):  \n",
    "    highly_irregular_up_to_9[n] = find_highly_irregular_graphs(n)"
   ]
  },
  {
   "cell_type": "code",
   "execution_count": 0,
   "id": "66352c",
   "metadata": {
    "collapsed": false,
    "scrolled": true
   },
   "outputs": [
   ],
   "source": [
    "for n in range(4, 10):\n",
    "    print(f\"\\nDrawing for n = {n} (Total {len(highly_irregular_up_to_9[n])})\")\n",
    "    \n",
    "    for i, G in enumerate(highly_irregular_up_to_9[n]):\n",
    "        print(f\"Graph {i+1} of order {n}\")\n",
    "        \n",
    "        G.show()\n",
    "        \n",
    "        G.set_latex_options(\n",
    "            graphic_size=(5,5),\n",
    "            vertex_size=0.2,\n",
    "            edge_thickness=0.1,\n",
    "            edge_color='black',\n",
    "            vertex_color='green',\n",
    "            vertex_label_color='red')\n",
    "        \n",
    "        print(latex(G))  \n",
    "        \n",
    "    degree_sets = set(tuple(sorted(H.degree())) for H in highly_irregular_up_to_9[n])\n",
    "    print(\"Distinct degree sequences:\", degree_sets)"
   ]
  },
  {
   "cell_type": "code",
   "execution_count": 0,
   "id": "dcd2bf",
   "metadata": {
    "collapsed": false
   },
   "outputs": [
   ],
   "source": [
    "# Graphs of order 10.\n",
    "highly_irregular_of_10 = find_highly_irregular_graphs(10)"
   ]
  },
  {
   "cell_type": "code",
   "execution_count": 0,
   "id": "dabf1d",
   "metadata": {
    "collapsed": false,
    "scrolled": true
   },
   "outputs": [
   ],
   "source": [
    "print(f\"\\nDrawing for n = {10} (Total {len(highly_irregular_of_10)})\")\n",
    "\n",
    "degree_sets = set(tuple(sorted(H.degree())) for H in highly_irregular_of_10)\n",
    "print(\"DDS:\", degree_sets)  \n",
    "\n",
    "for i, G in enumerate(highly_irregular_of_10):\n",
    "    print(f\"Graph {i+1} of order {10}\")\n",
    "    G.show()\n",
    "    \n",
    "    G.set_latex_options(\n",
    "            graphic_size=(5,5),\n",
    "            vertex_size=0.1,\n",
    "            edge_thickness=0.1,\n",
    "            edge_color='black')\n",
    "        \n",
    "    print(latex(G))  "
   ]
  },
  {
   "cell_type": "code",
   "execution_count": 0,
   "id": "4caad6",
   "metadata": {
    "collapsed": false
   },
   "outputs": [
   ],
   "source": [
    "# Graphs of order 11.\n",
    "highly_irregular_of_11 = find_highly_irregular_graphs(11)"
   ]
  },
  {
   "cell_type": "code",
   "execution_count": 0,
   "id": "6594ec",
   "metadata": {
    "collapsed": false,
    "scrolled": true
   },
   "outputs": [
   ],
   "source": [
    "print(f\"\\nDrawing for n = {11} (Total {len(highly_irregular_of_11)})\")\n",
    "\n",
    "degree_sets = set(tuple(sorted(H.degree())) for H in highly_irregular_of_11)\n",
    "print(\"DDS:\", degree_sets)  \n",
    "\n",
    "for i, G in enumerate(highly_irregular_of_11):\n",
    "    print(f\"Graph {i+1} of order {11}\")\n",
    "    G.show()\n",
    "    \n",
    "    G.set_latex_options(\n",
    "            graphic_size=(5,5),\n",
    "            vertex_size=0.1,\n",
    "            edge_thickness=0.1,\n",
    "            edge_color='black')\n",
    "        \n",
    "    print(latex(G))  "
   ]
  },
  {
   "cell_type": "code",
   "execution_count": 9,
   "id": "a48dae",
   "metadata": {
    "collapsed": false,
    "scrolled": true
   },
   "outputs": [
    {
     "name": "stdout",
     "output_type": "stream",
     "text": [
      "Checking degree sequence: [1, 1, 1, 1, 1, 1, 1, 1, 1, 1, 1, 1]\n",
      "Found 0 highly irregular graph(s) with degree sequence [1, 1, 1, 1, 1, 1, 1, 1, 1, 1, 1, 1]\n",
      "Checking degree sequence: [1, 1, 2, 2, 1, 1, 1, 1, 1, 1, 1, 1]\n"
     ]
    },
    {
     "ename": "KeyboardInterrupt",
     "evalue": "",
     "output_type": "error",
     "traceback": [
      "\u001b[0;31m---------------------------------------------------------------------------\u001b[0m",
      "\u001b[0;31mKeyboardInterrupt\u001b[0m                         Traceback (most recent call last)",
      "Cell \u001b[0;32mIn[9], line 50\u001b[0m\n\u001b[1;32m     48\u001b[0m \u001b[38;5;28;01mfor\u001b[39;00m seq \u001b[38;5;129;01min\u001b[39;00m ds_l:\n\u001b[1;32m     49\u001b[0m     \u001b[38;5;28;01mif\u001b[39;00m is_graphical_hh(seq):\n\u001b[0;32m---> 50\u001b[0m         \u001b[43mfind_degree_sequence_for_hi_order_12\u001b[49m\u001b[43m(\u001b[49m\u001b[43mseq\u001b[49m\u001b[43m)\u001b[49m\n",
      "Cell \u001b[0;32mIn[9], line 8\u001b[0m, in \u001b[0;36mfind_degree_sequence_for_hi_order_12\u001b[0;34m(ds)\u001b[0m\n\u001b[1;32m      5\u001b[0m \u001b[38;5;28mprint\u001b[39m(\u001b[38;5;124mf\u001b[39m\u001b[38;5;124m\"\u001b[39m\u001b[38;5;124mChecking degree sequence: \u001b[39m\u001b[38;5;132;01m{\u001b[39;00mds\u001b[38;5;132;01m}\u001b[39;00m\u001b[38;5;124m\"\u001b[39m)\n\u001b[1;32m      6\u001b[0m count \u001b[38;5;241m=\u001b[39m Integer(\u001b[38;5;241m0\u001b[39m)\n\u001b[0;32m----> 8\u001b[0m \u001b[43m\u001b[49m\u001b[38;5;28;43;01mfor\u001b[39;49;00m\u001b[43m \u001b[49m\u001b[43mG\u001b[49m\u001b[43m \u001b[49m\u001b[38;5;129;43;01min\u001b[39;49;00m\u001b[43m \u001b[49m\u001b[43mgraphs\u001b[49m\u001b[43m(\u001b[49m\u001b[43mvertices\u001b[49m\u001b[38;5;241;43m=\u001b[39;49m\u001b[43mInteger\u001b[49m\u001b[43m(\u001b[49m\u001b[38;5;241;43m12\u001b[39;49m\u001b[43m)\u001b[49m\u001b[43m,\u001b[49m\u001b[43m \u001b[49m\u001b[43mdegree_sequence\u001b[49m\u001b[38;5;241;43m=\u001b[39;49m\u001b[43mds\u001b[49m\u001b[43m,\u001b[49m\u001b[43m \u001b[49m\u001b[43mloops\u001b[49m\u001b[43m \u001b[49m\u001b[38;5;241;43m=\u001b[39;49m\u001b[43m \u001b[49m\u001b[38;5;28;43;01mFalse\u001b[39;49;00m\u001b[43m)\u001b[49m\u001b[43m:\u001b[49m\n\u001b[1;32m      9\u001b[0m \u001b[43m    \u001b[49m\u001b[38;5;28;43;01mif\u001b[39;49;00m\u001b[43m \u001b[49m\u001b[38;5;129;43;01mnot\u001b[39;49;00m\u001b[43m \u001b[49m\u001b[43mG\u001b[49m\u001b[38;5;241;43m.\u001b[39;49m\u001b[43mis_connected\u001b[49m\u001b[43m(\u001b[49m\u001b[43m)\u001b[49m\u001b[43m:\u001b[49m\n\u001b[1;32m     10\u001b[0m \u001b[43m        \u001b[49m\u001b[38;5;28;43;01mcontinue\u001b[39;49;00m\n",
      "File \u001b[0;32m/ext/sage/10.6/src/sage/graphs/graph_generators.py:879\u001b[0m, in \u001b[0;36mGraphGenerators.__call__\u001b[0;34m(self, vertices, property, augment, size, degree_sequence, loops, sparse, copy, immutable)\u001b[0m\n\u001b[1;32m    877\u001b[0m     gen \u001b[38;5;241m+\u001b[39m\u001b[38;5;241m=\u001b[39m \u001b[38;5;28mlist\u001b[39m(\u001b[38;5;28mrange\u001b[39m(i \u001b[38;5;241m+\u001b[39m \u001b[38;5;241m2\u001b[39m, vertices))\n\u001b[1;32m    878\u001b[0m     gens\u001b[38;5;241m.\u001b[39mappend(gen)\n\u001b[0;32m--> 879\u001b[0m \u001b[43m\u001b[49m\u001b[38;5;28;43;01mfor\u001b[39;49;00m\u001b[43m \u001b[49m\u001b[43mgg\u001b[49m\u001b[43m \u001b[49m\u001b[38;5;129;43;01min\u001b[39;49;00m\u001b[43m \u001b[49m\u001b[43mcanaug_traverse_edge\u001b[49m\u001b[43m(\u001b[49m\u001b[43mg\u001b[49m\u001b[43m,\u001b[49m\u001b[43m \u001b[49m\u001b[43mgens\u001b[49m\u001b[43m,\u001b[49m\u001b[43m \u001b[49m\u001b[38;5;28;43mproperty\u001b[39;49m\u001b[43m,\u001b[49m\u001b[43m \u001b[49m\u001b[43mloops\u001b[49m\u001b[38;5;241;43m=\u001b[39;49m\u001b[43mloops\u001b[49m\u001b[43m,\u001b[49m\u001b[43m \u001b[49m\u001b[43msparse\u001b[49m\u001b[38;5;241;43m=\u001b[39;49m\u001b[43msparse\u001b[49m\u001b[43m)\u001b[49m\u001b[43m:\u001b[49m\n\u001b[1;32m    880\u001b[0m \u001b[43m    \u001b[49m\u001b[38;5;28;43;01mif\u001b[39;49;00m\u001b[43m \u001b[49m\u001b[43mextra_property\u001b[49m\u001b[43m(\u001b[49m\u001b[43mgg\u001b[49m\u001b[43m)\u001b[49m\u001b[43m:\u001b[49m\n\u001b[1;32m    881\u001b[0m \u001b[43m        \u001b[49m\u001b[38;5;28;43;01myield\u001b[39;49;00m\u001b[43m \u001b[49m\u001b[43mgg\u001b[49m\u001b[38;5;241;43m.\u001b[39;49m\u001b[43mcopy\u001b[49m\u001b[43m(\u001b[49m\u001b[43mimmutable\u001b[49m\u001b[38;5;241;43m=\u001b[39;49m\u001b[43mimmutable\u001b[49m\u001b[43m)\u001b[49m\u001b[43m \u001b[49m\u001b[38;5;28;43;01mif\u001b[39;49;00m\u001b[43m \u001b[49m\u001b[43mcopy\u001b[49m\u001b[43m \u001b[49m\u001b[38;5;129;43;01mor\u001b[39;49;00m\u001b[43m \u001b[49m\u001b[43mimmutable\u001b[49m\u001b[43m \u001b[49m\u001b[38;5;28;43;01melse\u001b[39;49;00m\u001b[43m \u001b[49m\u001b[43mgg\u001b[49m\n",
      "File \u001b[0;32m/ext/sage/10.6/src/sage/graphs/graph_generators.py:3219\u001b[0m, in \u001b[0;36mcanaug_traverse_edge\u001b[0;34m(g, aut_gens, property, dig, loops, sparse)\u001b[0m\n\u001b[1;32m   3217\u001b[0m m_z\u001b[38;5;241m.\u001b[39mdelete_edge(cut_edge)\n\u001b[1;32m   3218\u001b[0m \u001b[38;5;28;01mif\u001b[39;00m m_z \u001b[38;5;241m==\u001b[39m g:\n\u001b[0;32m-> 3219\u001b[0m \u001b[43m    \u001b[49m\u001b[38;5;28;43;01mfor\u001b[39;49;00m\u001b[43m \u001b[49m\u001b[43ma\u001b[49m\u001b[43m \u001b[49m\u001b[38;5;129;43;01min\u001b[39;49;00m\u001b[43m \u001b[49m\u001b[43mcanaug_traverse_edge\u001b[49m\u001b[43m(\u001b[49m\u001b[43mz\u001b[49m\u001b[43m,\u001b[49m\u001b[43m \u001b[49m\u001b[43mz_aut_gens\u001b[49m\u001b[43m,\u001b[49m\u001b[43m \u001b[49m\u001b[38;5;28;43mproperty\u001b[39;49m\u001b[43m,\u001b[49m\u001b[43m \u001b[49m\u001b[43mdig\u001b[49m\u001b[38;5;241;43m=\u001b[39;49m\u001b[43mdig\u001b[49m\u001b[43m,\u001b[49m\u001b[43m \u001b[49m\u001b[43mloops\u001b[49m\u001b[38;5;241;43m=\u001b[39;49m\u001b[43mloops\u001b[49m\u001b[43m,\u001b[49m\u001b[43m \u001b[49m\u001b[43msparse\u001b[49m\u001b[38;5;241;43m=\u001b[39;49m\u001b[43msparse\u001b[49m\u001b[43m)\u001b[49m\u001b[43m:\u001b[49m\n\u001b[1;32m   3220\u001b[0m \u001b[43m        \u001b[49m\u001b[38;5;28;43;01myield\u001b[39;49;00m\u001b[43m \u001b[49m\u001b[43ma\u001b[49m\n\u001b[1;32m   3221\u001b[0m \u001b[38;5;28;01melse\u001b[39;00m:\n",
      "File \u001b[0;32m/ext/sage/10.6/src/sage/graphs/graph_generators.py:3219\u001b[0m, in \u001b[0;36mcanaug_traverse_edge\u001b[0;34m(g, aut_gens, property, dig, loops, sparse)\u001b[0m\n\u001b[1;32m   3217\u001b[0m m_z\u001b[38;5;241m.\u001b[39mdelete_edge(cut_edge)\n\u001b[1;32m   3218\u001b[0m \u001b[38;5;28;01mif\u001b[39;00m m_z \u001b[38;5;241m==\u001b[39m g:\n\u001b[0;32m-> 3219\u001b[0m \u001b[43m    \u001b[49m\u001b[38;5;28;43;01mfor\u001b[39;49;00m\u001b[43m \u001b[49m\u001b[43ma\u001b[49m\u001b[43m \u001b[49m\u001b[38;5;129;43;01min\u001b[39;49;00m\u001b[43m \u001b[49m\u001b[43mcanaug_traverse_edge\u001b[49m\u001b[43m(\u001b[49m\u001b[43mz\u001b[49m\u001b[43m,\u001b[49m\u001b[43m \u001b[49m\u001b[43mz_aut_gens\u001b[49m\u001b[43m,\u001b[49m\u001b[43m \u001b[49m\u001b[38;5;28;43mproperty\u001b[39;49m\u001b[43m,\u001b[49m\u001b[43m \u001b[49m\u001b[43mdig\u001b[49m\u001b[38;5;241;43m=\u001b[39;49m\u001b[43mdig\u001b[49m\u001b[43m,\u001b[49m\u001b[43m \u001b[49m\u001b[43mloops\u001b[49m\u001b[38;5;241;43m=\u001b[39;49m\u001b[43mloops\u001b[49m\u001b[43m,\u001b[49m\u001b[43m \u001b[49m\u001b[43msparse\u001b[49m\u001b[38;5;241;43m=\u001b[39;49m\u001b[43msparse\u001b[49m\u001b[43m)\u001b[49m\u001b[43m:\u001b[49m\n\u001b[1;32m   3220\u001b[0m \u001b[43m        \u001b[49m\u001b[38;5;28;43;01myield\u001b[39;49;00m\u001b[43m \u001b[49m\u001b[43ma\u001b[49m\n\u001b[1;32m   3221\u001b[0m \u001b[38;5;28;01melse\u001b[39;00m:\n",
      "File \u001b[0;32m/ext/sage/10.6/src/sage/graphs/graph_generators.py:3222\u001b[0m, in \u001b[0;36mcanaug_traverse_edge\u001b[0;34m(g, aut_gens, property, dig, loops, sparse)\u001b[0m\n\u001b[1;32m   3220\u001b[0m         \u001b[38;5;28;01myield\u001b[39;00m a\n\u001b[1;32m   3221\u001b[0m \u001b[38;5;28;01melse\u001b[39;00m:\n\u001b[0;32m-> 3222\u001b[0m \u001b[43m    \u001b[49m\u001b[38;5;28;43;01mfor\u001b[39;49;00m\u001b[43m \u001b[49m\u001b[43mpossibility\u001b[49m\u001b[43m \u001b[49m\u001b[38;5;129;43;01min\u001b[39;49;00m\u001b[43m \u001b[49m\u001b[43mcheck_aut_edge\u001b[49m\u001b[43m(\u001b[49m\u001b[43mz_aut_gens\u001b[49m\u001b[43m,\u001b[49m\u001b[43m \u001b[49m\u001b[43mcut_edge\u001b[49m\u001b[43m,\u001b[49m\u001b[43m \u001b[49m\u001b[43mi\u001b[49m\u001b[43m,\u001b[49m\u001b[43m \u001b[49m\u001b[43mj\u001b[49m\u001b[43m,\u001b[49m\u001b[43m \u001b[49m\u001b[43mn\u001b[49m\u001b[43m,\u001b[49m\u001b[43m \u001b[49m\u001b[43mdig\u001b[49m\u001b[38;5;241;43m=\u001b[39;49m\u001b[43mdig\u001b[49m\u001b[43m)\u001b[49m\u001b[43m:\u001b[49m\n\u001b[1;32m   3223\u001b[0m \u001b[43m        \u001b[49m\u001b[38;5;28;43;01mif\u001b[39;49;00m\u001b[43m \u001b[49m\u001b[43mm_z\u001b[49m\u001b[38;5;241;43m.\u001b[39;49m\u001b[43mrelabel\u001b[49m\u001b[43m(\u001b[49m\u001b[43mpossibility\u001b[49m\u001b[43m,\u001b[49m\u001b[43m \u001b[49m\u001b[43minplace\u001b[49m\u001b[38;5;241;43m=\u001b[39;49m\u001b[38;5;28;43;01mFalse\u001b[39;49;00m\u001b[43m)\u001b[49m\u001b[43m \u001b[49m\u001b[38;5;241;43m==\u001b[39;49m\u001b[43m \u001b[49m\u001b[43mg\u001b[49m\u001b[43m:\u001b[49m\n\u001b[1;32m   3224\u001b[0m \u001b[43m            \u001b[49m\u001b[38;5;28;43;01mfor\u001b[39;49;00m\u001b[43m \u001b[49m\u001b[43ma\u001b[49m\u001b[43m \u001b[49m\u001b[38;5;129;43;01min\u001b[39;49;00m\u001b[43m \u001b[49m\u001b[43mcanaug_traverse_edge\u001b[49m\u001b[43m(\u001b[49m\u001b[43mz\u001b[49m\u001b[43m,\u001b[49m\u001b[43m \u001b[49m\u001b[43mz_aut_gens\u001b[49m\u001b[43m,\u001b[49m\u001b[43m \u001b[49m\u001b[38;5;28;43mproperty\u001b[39;49m\u001b[43m,\u001b[49m\u001b[43m \u001b[49m\u001b[43mdig\u001b[49m\u001b[38;5;241;43m=\u001b[39;49m\u001b[43mdig\u001b[49m\u001b[43m,\u001b[49m\u001b[43m \u001b[49m\u001b[43mloops\u001b[49m\u001b[38;5;241;43m=\u001b[39;49m\u001b[43mloops\u001b[49m\u001b[43m,\u001b[49m\u001b[43m \u001b[49m\u001b[43msparse\u001b[49m\u001b[38;5;241;43m=\u001b[39;49m\u001b[43msparse\u001b[49m\u001b[43m)\u001b[49m\u001b[43m:\u001b[49m\n",
      "File \u001b[0;32m/ext/sage/10.6/src/sage/graphs/graph_generators.py:3260\u001b[0m, in \u001b[0;36mcheck_aut_edge\u001b[0;34m(aut_gens, cut_edge, i, j, n, dig)\u001b[0m\n\u001b[1;32m   3258\u001b[0m \u001b[38;5;28;01mfor\u001b[39;00m ii \u001b[38;5;129;01min\u001b[39;00m \u001b[38;5;28mrange\u001b[39m(n):\n\u001b[1;32m   3259\u001b[0m     new_perm[ii] \u001b[38;5;241m=\u001b[39m gen[perm[ii]]\n\u001b[0;32m-> 3260\u001b[0m \u001b[38;5;28;01mif\u001b[39;00m new_perm \u001b[38;5;129;01mnot\u001b[39;00m \u001b[38;5;129;01min\u001b[39;00m seen_perms:\n\u001b[1;32m   3261\u001b[0m     seen_perms\u001b[38;5;241m.\u001b[39mappend(new_perm)\n\u001b[1;32m   3262\u001b[0m     unchecked_perms\u001b[38;5;241m.\u001b[39mappend(new_perm)\n",
      "File \u001b[0;32msignals.pyx:355\u001b[0m, in \u001b[0;36mcysignals.signals.python_check_interrupt\u001b[0;34m()\u001b[0m\n",
      "\u001b[0;31mKeyboardInterrupt\u001b[0m: "
     ]
    }
   ],
   "source": [
    "from itertools import combinations_with_replacement\n",
    "\n",
    "\n",
    "def find_degree_sequence_for_hi_order_12(ds):\n",
    "    print(f\"Checking degree sequence: {ds}\")\n",
    "    count = 0\n",
    "\n",
    "    for G in graphs(vertices=12, degree_sequence=ds, loops = False):\n",
    "        if not G.is_connected():\n",
    "            continue\n",
    "            \n",
    "        if is_highly_irregular(G, 12):\n",
    "            count += 1\n",
    "    \n",
    "    print(f\"Found {count} highly irregular graph(s) with degree sequence {ds}\")\n",
    "\n",
    "    from itertools import combinations_with_replacement\n",
    "\n",
    "    \n",
    "def is_graphical_hh(sequence):\n",
    "    while True:\n",
    "        sequence = [d for d in sequence if d != 0]\n",
    "        if not sequence:\n",
    "            return True\n",
    "        \n",
    "        sequence.sort(reverse=True)\n",
    "        first = sequence.pop(0)\n",
    "        if first > len(sequence):\n",
    "            return False\n",
    "\n",
    "        for i in range(first):\n",
    "            if sequence[i] == 0:\n",
    "                return False\n",
    "            sequence[i] -= 1\n",
    "\n",
    "\n",
    "ds_l = []\n",
    "for d in range(1, 7):\n",
    "    base = []\n",
    "    for i in range(1, d + 1):\n",
    "        base.extend([i, i])\n",
    "\n",
    "    remaining = 12 - 2 * d\n",
    "    for comb in combinations_with_replacement(range(1, d + 1), remaining):\n",
    "        ds = base + list(comb)\n",
    "        ds_l.append(ds)\n",
    "\n",
    "for seq in ds_l:\n",
    "    if is_graphical_hh(seq):\n",
    "        find_degree_sequence_for_hi_order_12(seq)"
   ]
  }
 ],
 "metadata": {
  "kernelspec": {
   "argv": [
    "sage-10.6",
    "--python",
    "-m",
    "sage.repl.ipython_kernel",
    "--matplotlib=inline",
    "-f",
    "{connection_file}"
   ],
   "display_name": "SageMath 10.6",
   "env": {
   },
   "language": "sagemath",
   "metadata": {
    "cocalc": {
     "description": "Open-source mathematical software system",
     "priority": 10,
     "url": "https://www.sagemath.org/"
    }
   },
   "name": "sage-10.6",
   "resource_dir": "/ext/jupyter/kernels/sage-10.6"
  },
  "language_info": {
   "codemirror_mode": {
    "name": "ipython",
    "version": 3
   },
   "file_extension": ".py",
   "mimetype": "text/x-python",
   "name": "python",
   "nbconvert_exporter": "python",
   "pygments_lexer": "ipython3",
   "version": "3.12.5"
  }
 },
 "nbformat": 4,
 "nbformat_minor": 4
}